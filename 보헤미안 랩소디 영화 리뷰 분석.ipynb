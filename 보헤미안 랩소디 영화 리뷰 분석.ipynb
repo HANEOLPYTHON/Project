{
 "cells": [
  {
   "cell_type": "code",
   "execution_count": 2,
   "id": "5b9c53ab-d38f-4420-b38e-44af3c3689f1",
   "metadata": {},
   "outputs": [
    {
     "data": {
      "text/plain": [
       "'https://movie.naver.com/movie/bi/mi/review.naver?code=156464'"
      ]
     },
     "execution_count": 2,
     "metadata": {},
     "output_type": "execute_result"
    }
   ],
   "source": [
    "import requests\n",
    "\n",
    "#네이버 영화 사이트- 보헤미안 랩소디\n",
    "url = \"https://movie.naver.com/movie/bi/mi/review.naver?code=156464\"\n",
    "url\n",
    "\n"
   ]
  },
  {
   "cell_type": "code",
   "execution_count": 3,
   "id": "c27cd1b4-d3c5-48be-9394-bc0f081abf41",
   "metadata": {},
   "outputs": [
    {
     "name": "stdout",
     "output_type": "stream",
     "text": [
      "<Response [200]>\n"
     ]
    },
    {
     "data": {
      "text/plain": [
       "'ng=\"ko\">\\r\\n<head>\\r\\n<meta charset=\"utf-8\">\\r\\n<meta ht'"
      ]
     },
     "execution_count": 3,
     "metadata": {},
     "output_type": "execute_result"
    }
   ],
   "source": [
    "# 데이터 불러오기\n",
    "resp = requests.get(url)\n",
    "print(resp)\n",
    "\n",
    "resp.text[150:200]"
   ]
  },
  {
   "cell_type": "code",
   "execution_count": 4,
   "id": "63549b52-a287-4a8a-b57b-c413b4933ac6",
   "metadata": {},
   "outputs": [
    {
     "name": "stdout",
     "output_type": "stream",
     "text": [
      "<class 'bs4.BeautifulSoup'>\n"
     ]
    }
   ],
   "source": [
    "# BeautifulSoup 함수 불러오기 (pip install bs4 설치 필요)  \n",
    "from bs4 import BeautifulSoup \n",
    "\n",
    "# BeautifulSoup 함수로, HTML 문서 구조를 파싱 \n",
    "soup = BeautifulSoup(resp.text, 'html.parser')\n",
    "\n",
    "# 파싱한 내용을 담고 있는 객체의 자료형 확인\n",
    "print(type(soup))"
   ]
  },
  {
   "cell_type": "code",
   "execution_count": 5,
   "id": "a61a34b7-c326-4a83-91d5-6353c1fc4053",
   "metadata": {},
   "outputs": [
    {
     "name": "stdout",
     "output_type": "stream",
     "text": [
      "<title>보헤미안 랩소디 : 네이버 영화</title>\n",
      "보헤미안 랩소디 : 네이버 영화\n"
     ]
    }
   ],
   "source": [
    "#보헤미안 랩소디 :네이버 영화\n",
    "# title 태그 이름을 활용하여 영화 제목이 포함되어 있는 요소를 찾습니다.\n",
    "title_tag = soup.find(name='title')\n",
    "print(title_tag)\n",
    "\n",
    "# 텍스트 부분만 추출합니다.\n",
    "title_text = title_tag.get_text()\n",
    "print(title_text)"
   ]
  },
  {
   "cell_type": "code",
   "execution_count": 5,
   "id": "9e1a8b04",
   "metadata": {},
   "outputs": [
    {
     "name": "stdout",
     "output_type": "stream",
     "text": [
      "span 태그:  <span class=\"cnt\">총<em>965</em>건</span>\n",
      "em 태그:  <em>965</em>\n",
      "텍스트:  965\n"
     ]
    }
   ],
   "source": [
    "count_tag = soup.find(name='span', attrs={'class':'cnt'})\n",
    "print(\"span 태그: \", count_tag)\n",
    "\n",
    "# count_tag 요소에서 em 태그 부분을 찾습니다. \n",
    "count_tag = count_tag.find(name='em')\n",
    "print(\"em 태그: \", count_tag)\n",
    "\n",
    "# 텍스트 부분만 추출합니다.\n",
    "count_text = count_tag.get_text()\n",
    "print(\"텍스트: \", count_text)"
   ]
  },
  {
   "cell_type": "code",
   "execution_count": 6,
   "id": "6b3267f4-8041-45d3-b2d8-b720ab2a74b9",
   "metadata": {},
   "outputs": [
    {
     "name": "stdout",
     "output_type": "stream",
     "text": [
      "li 태그의 수:  10\n",
      "\n",
      "\n",
      "<li>\n",
      "<a href=\"#\" onclick=\"clickcr(this, 'rli.title', '', '', event); showReviewDetail(4663775)\"><strong>영화 보헤미안 랩소디, 퀸, 프레디 머큐리</strong></a>\n",
      "<span class=\"user\"><a href=\"#\" onclick=\"clickcr(this, 'rli.uid', '', '', event); showReviewListByNid('4663775');\">k8mr****</a> <em>2018.10.25</em><em>추천 80</em></span>\n",
      "<p><a href=\"#\" onclick=\"clickcr(this, 'rli.content', '', '', event); showReviewDetail(4663775);\"> 영화 보헤미안 랩소디를 아이맥스 스크린을 통해 관람했다. 실제 콘서트 현장에 있는 듯한 기분이 들 정도로 생생한 분위기와 현장감을 담은 공연 장면의 열기가  아이맥스 스크린을 통해서 더욱 극대화되는 느낌이 들었다.음악의 꿈을 ...</a></p>\n",
      "</li>\n"
     ]
    }
   ],
   "source": [
    "review_list_tag = soup.find(name='ul', attrs={'class':'rvw_list_area'})\n",
    "\n",
    "# review_list_tag 요소에 포함된 li 태그를 모두 찾습니다. \n",
    "review_list_tags = review_list_tag.find_all(name='li')\n",
    "print(\"li 태그의 수: \", len(review_list_tags))\n",
    "print(\"\\n\")\n",
    "\n",
    "# 첫 번째 출력\n",
    "print(review_list_tags[0])\n"
   ]
  },
  {
   "cell_type": "code",
   "execution_count": 7,
   "id": "4e392748-92e8-4ca8-911a-df75c1cb44db",
   "metadata": {},
   "outputs": [
    {
     "name": "stdout",
     "output_type": "stream",
     "text": [
      "제목: 영화 보헤미안 랩소디, 퀸, 프레디 머큐리 \n",
      "\n",
      "사용자: k8mr**** \n",
      "\n",
      "내용:  영화 보헤미안 랩소디를 아이맥스 스크린을 통해 관람했다. 실제 콘서트 현장에 있는 듯한 기분이 들 정도로 생생한 분위기와 현장감을 담은 공연 장면의 열기가  아이맥스 스크린을 통해서 더욱 극대화되는 느낌이 들었다.음악의 꿈을 ... \n",
      "\n"
     ]
    }
   ],
   "source": [
    "#https://movie.naver.com/movie/bi/mi/review.naver?code=198413\n",
    "review_title = review_list_tags[0].find_all('a')[0].get_text()\n",
    "print(\"제목:\", review_title, \"\\n\")\n",
    "\n",
    "review_uid = review_list_tags[0].find_all('a')[1].get_text()\n",
    "print(\"사용자:\", review_uid, \"\\n\")\n",
    "\n",
    "review_content = review_list_tags[0].find_all('a')[2].get_text()\n",
    "print(r\"내용:\", review_content, \"\\n\")"
   ]
  },
  {
   "cell_type": "code",
   "execution_count": 13,
   "id": "77c7e56b-8bb9-4d6f-94dd-5d2958796a3b",
   "metadata": {},
   "outputs": [
    {
     "name": "stdout",
     "output_type": "stream",
     "text": [
      "li 태그의 수:  10\n",
      "\n",
      "\n",
      "<li>\n",
      "<a href=\"#\" onclick=\"clickcr(this, 'rli.title', '', '', event); showReviewDetail(4663775)\"><strong>영화 보헤미안 랩소디, 퀸, 프레디 머큐리</strong></a>\n",
      "<span class=\"user\"><a href=\"#\" onclick=\"clickcr(this, 'rli.uid', '', '', event); showReviewListByNid('4663775');\">k8mr****</a> <em>2018.10.25</em><em>추천 80</em></span>\n",
      "<p><a href=\"#\" onclick=\"clickcr(this, 'rli.content', '', '', event); showReviewDetail(4663775);\"> 영화 보헤미안 랩소디를 아이맥스 스크린을 통해 관람했다. 실제 콘서트 현장에 있는 듯한 기분이 들 정도로 생생한 분위기와 현장감을 담은 공연 장면의 열기가  아이맥스 스크린을 통해서 더욱 극대화되는 느낌이 들었다.음악의 꿈을 ...</a></p>\n",
      "</li>\n"
     ]
    }
   ],
   "source": [
    "# <ul class=\"rvw_list_area\">\n",
    "\n",
    "# ul 태그의 class 속성값을 활용하여 리뷰 제목과 링크가 포함되어 있는 요소를 찾습니다.\n",
    "review_list_tag = soup.find(name='ul', attrs={'class':'rvw_list_area'})\n",
    "\n",
    "# review_list_tag 요소에 포함된 li 태그를 모두 찾습니다. \n",
    "review_list_tags = review_list_tag.find_all(name='li')\n",
    "print(\"li 태그의 수: \", len(review_list_tags))\n",
    "print(\"\\n\")\n",
    "\n",
    "# 첫 번째 원소를 출력합니다. \n",
    "print(review_list_tags[0])"
   ]
  },
  {
   "cell_type": "code",
   "execution_count": 14,
   "id": "0ad62df4-123d-4108-a1aa-999836c1636f",
   "metadata": {},
   "outputs": [
    {
     "data": {
      "text/plain": [
       "\"clickcr(this, 'rli.title', '', '', event); showReviewDetail(4663775)\""
      ]
     },
     "execution_count": 14,
     "metadata": {},
     "output_type": "execute_result"
    }
   ],
   "source": [
    "# 각 리뷰 페이지로 연결할 nid 값(예: 4808692)을 포함하는 Javascript 코드를 추출합니다.\n",
    "\n",
    "review_nid = review_list_tags[0].find('a').get('onclick')\n",
    "review_nid"
   ]
  },
  {
   "cell_type": "code",
   "execution_count": 15,
   "id": "7d94bd94-a4e2-4e40-a1e1-979e1c883672",
   "metadata": {},
   "outputs": [
    {
     "data": {
      "text/plain": [
       "'4663775'"
      ]
     },
     "execution_count": 15,
     "metadata": {},
     "output_type": "execute_result"
    }
   ],
   "source": [
    "import re\n",
    "\n",
    "review_nid = re.findall('\\d{7}', review_nid)[0]\n",
    "review_nid"
   ]
  },
  {
   "cell_type": "code",
   "execution_count": 16,
   "id": "44c6508e-7bd3-43cf-9c27-6be94bae5429",
   "metadata": {},
   "outputs": [
    {
     "data": {
      "text/plain": [
       "'https://movie.naver.com/movie/bi/mi/reviewread.naver?nid=4663775&code=156464&order=#tab'"
      ]
     },
     "execution_count": 16,
     "metadata": {},
     "output_type": "execute_result"
    }
   ],
   "source": [
    "review_url = f\"https://movie.naver.com/movie/bi/mi/reviewread.naver?nid={review_nid}&code=156464&order=#tab\"\n",
    "review_url\n"
   ]
  },
  {
   "cell_type": "code",
   "execution_count": 17,
   "id": "20ca04b7-e132-46db-917d-425d696c796a",
   "metadata": {},
   "outputs": [
    {
     "name": "stdout",
     "output_type": "stream",
     "text": [
      "10\n",
      "10\n",
      "10\n"
     ]
    }
   ],
   "source": [
    "# 10개의 리뷰를 반복문으로 조회하면서, 리뷰 제목(rli.title), 사용자(rli.uid), 상세 페이지 url 값을 추출합니다.\n",
    "title_list = []\n",
    "uid_list = []\n",
    "url_list = []\n",
    "\n",
    "for li_tag in review_list_tags:\n",
    "    \n",
    "    review_title = li_tag.find_all('a')[0].get_text()\n",
    "    title_list.append(review_title)\n",
    "    \n",
    "    review_uid = li_tag.find_all('a')[1].get_text()\n",
    "    uid_list.append(review_uid)\n",
    "    \n",
    "    review_nid = re.findall('\\d{7}', li_tag.find('a').get('onclick'))[0]\n",
    "    review_url = f\"https://movie.naver.com/movie/bi/mi/reviewread.naver?nid={review_nid}&code=156464&order=#tab\"\n",
    "    url_list.append(review_url)    \n",
    "    \n",
    "# 추출된 아이템의 수량\n",
    "print(len(title_list))\n",
    "print(len(uid_list))\n",
    "print(len(url_list))"
   ]
  },
  {
   "cell_type": "code",
   "execution_count": 18,
   "id": "3e8266f2-e9fa-409f-8702-cc5dbb9ebcf9",
   "metadata": {},
   "outputs": [
    {
     "name": "stdout",
     "output_type": "stream",
     "text": [
      "['https://movie.naver.com/movie/bi/mi/reviewread.naver?nid=4663775&code=156464&order=#tab', 'https://movie.naver.com/movie/bi/mi/reviewread.naver?nid=4665168&code=156464&order=#tab', 'https://movie.naver.com/movie/bi/mi/reviewread.naver?nid=4667432&code=156464&order=#tab', 'https://movie.naver.com/movie/bi/mi/reviewread.naver?nid=4666740&code=156464&order=#tab', 'https://movie.naver.com/movie/bi/mi/reviewread.naver?nid=4665102&code=156464&order=#tab', 'https://movie.naver.com/movie/bi/mi/reviewread.naver?nid=4667626&code=156464&order=#tab', 'https://movie.naver.com/movie/bi/mi/reviewread.naver?nid=4665511&code=156464&order=#tab', 'https://movie.naver.com/movie/bi/mi/reviewread.naver?nid=4424857&code=156464&order=#tab', 'https://movie.naver.com/movie/bi/mi/reviewread.naver?nid=4677333&code=156464&order=#tab', 'https://movie.naver.com/movie/bi/mi/reviewread.naver?nid=4667411&code=156464&order=#tab']\n"
     ]
    }
   ],
   "source": [
    "# 리스트 출력\n",
    "print(url_list)"
   ]
  },
  {
   "cell_type": "code",
   "execution_count": 20,
   "id": "aac83f33-ff3a-4d65-80fd-81e6e680237d",
   "metadata": {},
   "outputs": [
    {
     "name": "stdout",
     "output_type": "stream",
     "text": [
      "\n",
      "\n",
      "영화 보헤미안 랩소디를 아이맥스 스크린을 통해 관람했다. 실제 콘서트 현장에 있는 듯한 기분이 들 정도로 생생한 분위기와 현장감을 담은 공연 장면의 열기가  아이맥스 스크린을 통해서 더욱 극대화되는 느낌이 들었다.음악의 꿈을 키우며 공항에서 인부로 일하다가전설의 록 밴드가 된 프레디 머큐리와 퀸의 독창적인 음악과 화려한 무대 그리고 그들의 진짜 이야기를 담은 영화이다.  ‘퀸’의 명곡과 더불어 메인 보컬 ‘프레디 머큐리’의 화려한 무대를 아이맥스 스크린로 완벽하게 담아냈다. 영화 내내 퀸의 라이브공연을 보고 있는 것 같은 착각이 들 정도로 영상과 음악의 조화가 잘 이루어진 영화이다.영화의 하이라이트는 마지막 장면의 라이브에이드 공연이다.라이브 에이드에서는 퀸의 모든것을 보여주고 영화를 마무리 한다.보헤미안 랩소디 영화에서 다루지않은 프레디머큐리의 출생과 삶에 대한 이야기를 추가하려한다.영화를 보지 않았거나 본 관객들도 알고 나면 더욱 프레디 머큐리 삶에 대한 이해를 넓힐 수 있을 것이다.아프리카 탄자니아의 잔지바르 섬에서 태어난 프레디 머큐리프레디 머큐리는 1946년 영국의 식민지였던 잔지바르에서 영국 총독부 공무원의 1남 1녀 중 장남으로 태어났다. 어릴 적 이름은 '파로크 불사라'였다. 집안이나 이름, 외모 등을 볼 때 전형적인 영국인은 아니었다. 그의 아버지는 인도 국적을 가졌으며 오래 전 8세기에 이슬람교 교도에 쫓겨 인도로 피신한 페르시아인 조로아스터교 신자의 후손이었다. \n",
      " 어린 시절을 잔지바르에서 보낸 프레디 머큐리는 아버지의 뜻에 따라 인도의 뭄바이로 가서 10년간 기숙학교에 다녔으며 이때부터 영어 프레드릭의 애칭인 프레디라는 이름을 사용했다. 학창시절 프레디는 친구들과 밴드를 결성하였는데 당시에는 리드 보컬을 맡지 않고 키보드를 연주했다.1964년에 잔지바르에서 아랍인과 인도인을 규탄하는 운동이 일어나자 프레디 머큐리의 가족은 쫓겨나다시피 영국으로 이주하였고 프레디는 1969년에 런던의 일링 칼리지에서 그래픽 디자인 학위를 받았다. 이 무렵 영국 시민권을 얻으면서 본명을 인도식 이름인 '파로크 불사라'에서 영어식으로 '프레드릭 벌사라'로 개명했다. 프레디는 퀸으로 데뷔하고 나서 본인의 이름을 프레디 머큐리로 개명하는데 대학시절에는 프레디 불사라라는 이름으로 그냥 썼다고 한다. 프레디는 그의 고향 진지바르 시절의 과거를 그리 좋아하지 않았다고 하는데 그에 관한 에피소드가 있다. 퀸의 전성기 때 공연 직후 잔지바르 시절의 프레디 동창들이 찾아왔는데 그들에게 알은 체를 하지 않았다고 한다. 또한 잔지바르에서의 어린시절이나 인도에서 유학하던 때의 이야기를 거의 하지 않았고 주변사람들에게도 인도식의 본명도 밝히지 않았다고 한다.  ▲ 프레디 머큐리 머큐리 하우스 내부 벽에 걸려있는 사진 프레디가 고향 잔지바르를 그리 좋아하지 않았던 건 1964년에 잔지바르를 통치하던 오만의 아랍 정부가 아프리카 현지의 흑인들에 의해 전복되면서 아랍인들과 인도인들이 대거 재산을 몰수당했는데 프레디 머큐리의 가족들도 인도계였기 때문에 같은 이유로 쫓겨났던 일 때문이라고 한다.잔지바르에서는 언제부터인가 관광객들 중에서 퀸의 팬들이 \"프레디 머큐리가 태어난 집 어디예요?\"라고 물어 보았다고 한다. 당시 탄자니아나 잔지바르에서는 프레디 머큐리가 그렇게 유명한 사람인지 잘 몰랐다고 한다. 아무튼 프레디 머큐리가 대단히 유명한 사람이라는 게 알려지자 관광객을 유치하려고 서로들 자기 집이 그가 태어난 집이라고 홍보하거나 알려줘서 실제로 프레디가 태어난 집을 찾기 어렵다고 한다. 실제로 잔지바르에는 머큐리의 집이라고 하는 장소가 여럿 있다. 여러 집에서 머큐리의 집이라고 주장을 하는 데 정확한 곳은 아무도 모른다고 했다. 머큐리가 진짜 태어난 장소나 살던 곳에 대한 정부 차원의 공식적인 조사가 없기 때문이다. 그래서 잔지바르를 찾는 여행객들도 머큐리의 고향이라는 것을 모르고 지나치는 경우가 많다. 결국 머큐리의 발자취를 이곳에서 찾으려는 여행객에게는 실망스러울 수밖에 없다. ▲ 잔지바르 프레디 머큐리가 어린시절 보았을 집 앞 해변의 일몰 잔지바르의 무슬림들이 바라보는 머큐리의 이미지도 그리 우호적이지는 않다. 그 이유는 머큐리가 이곳에서 태어난 것은 맞지만 아버지가 식민지 총독부의 영국 관리로 왔기 때문에 진정한 잔지바르 인이라고 볼 수 없다는 것이다. 그리고 모든 가족이 나중에 영국으로 이주하였으며 프레디가 이슬람 교리에 어긋나는 동성애를 한 사실은 잔지바르 사람들의 정체성과 맞지 않다는 것이다.락 역사상 최고의 보컬이 누구인가에 대해서는 당연히 의견이 갈리지만 락에 가장 적합한 목소리가 누구의 것이냐는 질문에는 대개 프레디를 처음으로 꼽는 경우가 많다. 45살의 짧은 생을 살다 갔지만 위대한 록음악의 전설을 만들어 냈던 프레디 머큐리는 잔지바르에서의 어린 시절을 어떻게 기억하고 있었을까? 에이즈로 죽기 전 프레디는 그를 사랑하는 팬들에게 다음과 같은 마지막 편지를 남긴다.'나는 무대에서는 늘 외롭지 않았다. 어쩌면 나는 나의 음악보다도 나의 팬들을 사랑했을지도 모른다. 지금 혼자 병마와 싸우고 있는 나의 몰골은 점점 더 왜소해지고 흉해져 간다. 지금 소원이 있다면 팬들은 제발 나의 마지막 죽어가는 모습이 아닌 나의 음악에 대한 열정을 기억 해줬으면 한다. 언제 떠날지는 모르지만 죽기 전까지 노래하고 싶다. 사랑하는 나의 팬들을 위해서.'▲ 머큐리 하우스 스톤타운 머큐리하우스 입구 \n",
      "\n"
     ]
    }
   ],
   "source": [
    "# 리뷰 상세페이지의 HTML 소스코드를 가져와서 파싱(parsing)\n",
    "resp_text = requests.get(url_list[0], headers={'User-agent': 'agent'})\n",
    "soup_text = BeautifulSoup(resp_text.text, 'html.parser')\n",
    "\n",
    "# 리뷰 본문의 텍스트를 추출합니다. /  <div class=\"user_tx_area\"> )\n",
    "review_text_tag = soup_text.find(name='div', attrs={'class':'user_tx_area'})\n",
    "\n",
    "# 텍스트 부분만 추출합니다.\n",
    "review_text = review_text_tag.get_text()\n",
    "print(review_text)"
   ]
  },
  {
   "cell_type": "code",
   "execution_count": 21,
   "id": "aa497601-529f-4475-b4ee-b513198b0ded",
   "metadata": {},
   "outputs": [
    {
     "name": "stdout",
     "output_type": "stream",
     "text": [
      "10\n"
     ]
    }
   ],
   "source": [
    "# url 반복하여 텍스트를 추출하고 리스트에 추가\n",
    "import time\n",
    "text_list = []\n",
    "\n",
    "for url in url_list:\n",
    "\n",
    "    # 리뷰 상세페이지의 HTML 소스코드를 가져와서 파싱(parsing)\n",
    "    resp_text = requests.get(url, headers={'User-agent': 'agent'})\n",
    "    soup_text = BeautifulSoup(resp_text.text, 'html.parser')\n",
    "\n",
    "    # 리뷰 본문의 텍스트를 추출합니다. /  <div class=\"user_tx_area\"> )\n",
    "    review_text_tag = soup_text.find(name='div', attrs={'class':'user_tx_area'})\n",
    "\n",
    "    # 텍스트 부분만 추출합니다.\n",
    "    review_text = review_text_tag.get_text()\n",
    "    text_list.append(review_text)\n",
    "    \n",
    "    # 대기 시간을 추가합니다. (서버에 과도한 호출이 되지 않도록 유의) \n",
    "    time.sleep(2)\n",
    "    \n",
    "    \n",
    "# 추출된 아이템의 수량\n",
    "print(len(text_list))"
   ]
  },
  {
   "cell_type": "code",
   "execution_count": 22,
   "id": "e0b6e5ef-c434-4779-bcd7-70732a036aef",
   "metadata": {},
   "outputs": [
    {
     "data": {
      "text/html": [
       "<div>\n",
       "<style scoped>\n",
       "    .dataframe tbody tr th:only-of-type {\n",
       "        vertical-align: middle;\n",
       "    }\n",
       "\n",
       "    .dataframe tbody tr th {\n",
       "        vertical-align: top;\n",
       "    }\n",
       "\n",
       "    .dataframe thead th {\n",
       "        text-align: right;\n",
       "    }\n",
       "</style>\n",
       "<table border=\"1\" class=\"dataframe\">\n",
       "  <thead>\n",
       "    <tr style=\"text-align: right;\">\n",
       "      <th></th>\n",
       "      <th>title</th>\n",
       "      <th>user</th>\n",
       "      <th>review</th>\n",
       "    </tr>\n",
       "  </thead>\n",
       "  <tbody>\n",
       "    <tr>\n",
       "      <th>0</th>\n",
       "      <td>영화 보헤미안 랩소디, 퀸, 프레디 머큐리</td>\n",
       "      <td>k8mr****</td>\n",
       "      <td>\\n\\n영화 보헤미안 랩소디를 아이맥스 스크린을 통해 관람했다. 실제 콘서트 현장에...</td>\n",
       "    </tr>\n",
       "    <tr>\n",
       "      <th>1</th>\n",
       "      <td>이 영화 - 퀸 = 0</td>\n",
       "      <td>arti****</td>\n",
       "      <td>\\n이 영화 - 퀸 = 0퀸이 아니었다면 볼 리도 없었겠지만 퀸이라 봤다. 퀸이니까...</td>\n",
       "    </tr>\n",
       "    <tr>\n",
       "      <th>2</th>\n",
       "      <td>보헤미안 랩소디 영화 잡담</td>\n",
       "      <td>wait****</td>\n",
       "      <td>\\n   이 영화를 보기 전, 기대치를 최대한 낮추었다. \"이 영화는 분명히 형편없...</td>\n",
       "    </tr>\n",
       "    <tr>\n",
       "      <th>3</th>\n",
       "      <td>영화 보헤미안 랩소디 후기, 프레디머큐리와 퀸에 관련한 실화..</td>\n",
       "      <td>sus8****</td>\n",
       "      <td>\\n영화 보헤미안 랩소디 후기, 프레디모큐리와 퀸에 관련한 실화..   퀸을 좋아하...</td>\n",
       "    </tr>\n",
       "    <tr>\n",
       "      <th>4</th>\n",
       "      <td>아! 너무 달라! 너무 빈해 보여! 프레디 삼촌은 절대 저런 모습 아니였는데....</td>\n",
       "      <td>denp****</td>\n",
       "      <td>\\n프레디 삼촌. 절대 저 모습이 아니었어.85년 Live Aid공연 모습인듯 한데...</td>\n",
       "    </tr>\n",
       "    <tr>\n",
       "      <th>5</th>\n",
       "      <td>\"돈을 더 내고도 아깝지 않았을 영화가 아닌 명화\" 보헤미안 랩소디 짧은리뷰 스포없음</td>\n",
       "      <td>chir****</td>\n",
       "      <td>\\n  안녕하세요. 케이론입니다!오늘 리뷰할 영화는보헤미안 랩소디입니다.지극히 개인...</td>\n",
       "    </tr>\n",
       "    <tr>\n",
       "      <th>6</th>\n",
       "      <td>죽은자는 말이 없다(산 사람 입맞에 맞춘 황당한 영화)</td>\n",
       "      <td>seoh****</td>\n",
       "      <td>\\n프레디머큐리를 낮게 평가한 저질 상업 영화다.음악에 대한 열정과 완벽한 음악을 ...</td>\n",
       "    </tr>\n",
       "    <tr>\n",
       "      <th>7</th>\n",
       "      <td>queen bohemian rhapsody</td>\n",
       "      <td>qkrc****</td>\n",
       "      <td>\\n\\r\\nqueen bohemian rhapsody과연영화에서 이명곡을 어떻게 부...</td>\n",
       "    </tr>\n",
       "    <tr>\n",
       "      <th>8</th>\n",
       "      <td>또 다시 살아난 퀸의 프레디 머큐리</td>\n",
       "      <td>wedd****</td>\n",
       "      <td>\\n\\n원문 : http://chungawedding.co.kr/2214298042...</td>\n",
       "    </tr>\n",
       "    <tr>\n",
       "      <th>9</th>\n",
       "      <td>첨 들었을때 충격이 아직도 생생한 퀸 보헤미안랩소디를 극장에서 볼 수 있다니</td>\n",
       "      <td>trut****</td>\n",
       "      <td>\\n내가 퀸Queen 에 빠지게 된 계기가 바로 이 보헤미안랩소디 때문이었다.이 곡...</td>\n",
       "    </tr>\n",
       "  </tbody>\n",
       "</table>\n",
       "</div>"
      ],
      "text/plain": [
       "                                             title      user  \\\n",
       "0                          영화 보헤미안 랩소디, 퀸, 프레디 머큐리  k8mr****   \n",
       "1                                     이 영화 - 퀸 = 0  arti****   \n",
       "2                                   보헤미안 랩소디 영화 잡담  wait****   \n",
       "3              영화 보헤미안 랩소디 후기, 프레디머큐리와 퀸에 관련한 실화..  sus8****   \n",
       "4   아! 너무 달라! 너무 빈해 보여! 프레디 삼촌은 절대 저런 모습 아니였는데....  denp****   \n",
       "5  \"돈을 더 내고도 아깝지 않았을 영화가 아닌 명화\" 보헤미안 랩소디 짧은리뷰 스포없음  chir****   \n",
       "6                   죽은자는 말이 없다(산 사람 입맞에 맞춘 황당한 영화)  seoh****   \n",
       "7                          queen bohemian rhapsody  qkrc****   \n",
       "8                              또 다시 살아난 퀸의 프레디 머큐리  wedd****   \n",
       "9       첨 들었을때 충격이 아직도 생생한 퀸 보헤미안랩소디를 극장에서 볼 수 있다니  trut****   \n",
       "\n",
       "                                              review  \n",
       "0  \\n\\n영화 보헤미안 랩소디를 아이맥스 스크린을 통해 관람했다. 실제 콘서트 현장에...  \n",
       "1  \\n이 영화 - 퀸 = 0퀸이 아니었다면 볼 리도 없었겠지만 퀸이라 봤다. 퀸이니까...  \n",
       "2  \\n   이 영화를 보기 전, 기대치를 최대한 낮추었다. \"이 영화는 분명히 형편없...  \n",
       "3  \\n영화 보헤미안 랩소디 후기, 프레디모큐리와 퀸에 관련한 실화..   퀸을 좋아하...  \n",
       "4  \\n프레디 삼촌. 절대 저 모습이 아니었어.85년 Live Aid공연 모습인듯 한데...  \n",
       "5  \\n  안녕하세요. 케이론입니다!오늘 리뷰할 영화는보헤미안 랩소디입니다.지극히 개인...  \n",
       "6  \\n프레디머큐리를 낮게 평가한 저질 상업 영화다.음악에 대한 열정과 완벽한 음악을 ...  \n",
       "7  \\n\\r\\nqueen bohemian rhapsody과연영화에서 이명곡을 어떻게 부...  \n",
       "8  \\n\\n원문 : http://chungawedding.co.kr/2214298042...  \n",
       "9  \\n내가 퀸Queen 에 빠지게 된 계기가 바로 이 보헤미안랩소디 때문이었다.이 곡...  "
      ]
     },
     "execution_count": 22,
     "metadata": {},
     "output_type": "execute_result"
    }
   ],
   "source": [
    "dict_data = {\n",
    "    'title' : title_list,\n",
    "    'user' : uid_list,\n",
    "    'review' : text_list   \n",
    "}\n",
    "\n",
    "# 판다스 데이터프레임으로 변환\n",
    "import pandas as pd\n",
    "\n",
    "df_data = pd.DataFrame(dict_data)\n",
    "\n",
    "# 변환 결과를 확인\n",
    "df_data"
   ]
  },
  {
   "cell_type": "code",
   "execution_count": 23,
   "id": "3ce4c2a2-4f07-40c8-a949-4edfe6c58abe",
   "metadata": {},
   "outputs": [],
   "source": [
    "# CSV 파일로 저장\n",
    "\n",
    "df_data.to_csv(\"naver_review.csv\")"
   ]
  },
  {
   "cell_type": "code",
   "execution_count": null,
   "id": "e2918f7d-c79a-459b-a522-982b676bf9fa",
   "metadata": {},
   "outputs": [],
   "source": []
  }
 ],
 "metadata": {
  "kernelspec": {
   "display_name": "Python 3 (ipykernel)",
   "language": "python",
   "name": "python3"
  },
  "language_info": {
   "codemirror_mode": {
    "name": "ipython",
    "version": 3
   },
   "file_extension": ".py",
   "mimetype": "text/x-python",
   "name": "python",
   "nbconvert_exporter": "python",
   "pygments_lexer": "ipython3",
   "version": "3.9.13"
  }
 },
 "nbformat": 4,
 "nbformat_minor": 5
}
