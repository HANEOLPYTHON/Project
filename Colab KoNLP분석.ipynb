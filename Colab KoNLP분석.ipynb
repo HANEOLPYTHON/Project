{
 "cells": [
  {
   "cell_type": "code",
   "execution_count": 1,
   "metadata": {
    "colab": {
     "base_uri": "https://localhost:8080/"
    },
    "id": "DihR2EfRItQt",
    "outputId": "6dd2109d-a423-42bd-b476-104214162082"
   },
   "outputs": [
    {
     "name": "stderr",
     "output_type": "stream",
     "text": [
      "'sudo'은(는) 내부 또는 외부 명령, 실행할 수 있는 프로그램, 또는\n",
      "배치 파일이 아닙니다.\n",
      "'sudo'은(는) 내부 또는 외부 명령, 실행할 수 있는 프로그램, 또는\n",
      "배치 파일이 아닙니다.\n",
      "'rm'은(는) 내부 또는 외부 명령, 실행할 수 있는 프로그램, 또는\n",
      "배치 파일이 아닙니다.\n"
     ]
    }
   ],
   "source": [
    "!sudo apt-get install -y fonts-nanum\n",
    "!sudo fc-cache -fv\n",
    "!rm ~/.cache/matplotlib -rf"
   ]
  },
  {
   "cell_type": "code",
   "execution_count": 2,
   "metadata": {
    "colab": {
     "base_uri": "https://localhost:8080/",
     "height": 36
    },
    "id": "Q9Rhnz-nI5Ap",
    "outputId": "bf3943e0-4bfc-430f-ab30-1aa49c89b479"
   },
   "outputs": [
    {
     "ename": "ModuleNotFoundError",
     "evalue": "No module named 'torchtext'",
     "output_type": "error",
     "traceback": [
      "\u001b[1;31m---------------------------------------------------------------------------\u001b[0m",
      "\u001b[1;31mModuleNotFoundError\u001b[0m                       Traceback (most recent call last)",
      "\u001b[1;32m~\\AppData\\Local\\Temp\\ipykernel_8524\\2486856452.py\u001b[0m in \u001b[0;36m<module>\u001b[1;34m\u001b[0m\n\u001b[0;32m      3\u001b[0m \u001b[1;33m\u001b[0m\u001b[0m\n\u001b[0;32m      4\u001b[0m \u001b[1;31m# 데이터 다운로드\u001b[0m\u001b[1;33m\u001b[0m\u001b[1;33m\u001b[0m\u001b[0m\n\u001b[1;32m----> 5\u001b[1;33m \u001b[1;32mimport\u001b[0m \u001b[0mtorchtext\u001b[0m\u001b[1;33m\u001b[0m\u001b[1;33m\u001b[0m\u001b[0m\n\u001b[0m\u001b[0;32m      6\u001b[0m torchtext.utils.download_from_url(url='https://raw.githubusercontent.com/e9t/nsmc/master/ratings_train.txt', \n\u001b[0;32m      7\u001b[0m                                   path=os.path.join(DATA_DIR, 'review.txt'))\n",
      "\u001b[1;31mModuleNotFoundError\u001b[0m: No module named 'torchtext'"
     ]
    }
   ],
   "source": [
    "\n",
    "# (로컬에서 실습할 경우) 파이토치 설치: conda install pytorch==1.12.0 -c pytorch \n",
    "# (로컬에서 실습할 경우) torchtext 설치: conda install -c pytorch torchtext \n",
    "\n",
    "# 데이터 다운로드 \n",
    "import torchtext \n",
    "torchtext.utils.download_from_url(url='https://raw.githubusercontent.com/e9t/nsmc/master/ratings_train.txt', \n",
    "                                  path=os.path.join(DATA_DIR, 'review.txt'))"
   ]
  },
  {
   "cell_type": "code",
   "execution_count": null,
   "metadata": {
    "id": "r3bhcKvhI5UP"
   },
   "outputs": [],
   "source": [
    "\n",
    "import pandas as pd\n",
    "import numpy as np\n",
    "\n",
    "import os, re\n",
    "from tqdm import tqdm\n",
    "\n",
    "# 경고문구 미표시\n",
    "import warnings\n",
    "warnings.filterwarnings('ignore')\n",
    "\n",
    "# 한글 폰트 지정\n",
    "import matplotlib.pyplot as plt\n",
    "plt.rc('font', family='NanumBarunGothic')"
   ]
  },
  {
   "cell_type": "code",
   "execution_count": null,
   "metadata": {
    "id": "5PeztWbFJ32D"
   },
   "outputs": [],
   "source": [
    "DATA_DIR = \"./data\"\n",
    "os.makedirs(DATA_DIR, exist_ok=True)"
   ]
  },
  {
   "cell_type": "code",
   "execution_count": null,
   "metadata": {
    "colab": {
     "base_uri": "https://localhost:8080/",
     "height": 36
    },
    "id": "GlD3HiNoKCZs",
    "outputId": "f39999ed-e38a-48ef-e0d9-5126a888b24a"
   },
   "outputs": [],
   "source": [
    "import torchtext \n",
    "torchtext.utils.download_from_url(url='https://raw.githubusercontent.com/e9t/nsmc/master/ratings_train.txt', \n",
    "                                  path=os.path.join(DATA_DIR, 'review.txt'))"
   ]
  },
  {
   "cell_type": "code",
   "execution_count": null,
   "metadata": {
    "colab": {
     "base_uri": "https://localhost:8080/",
     "height": 224
    },
    "id": "pFtI6uGCI5ir",
    "outputId": "94804f84-3307-477a-b145-aa0291597287"
   },
   "outputs": [],
   "source": [
    "# txt 파일을 판다스 데이터프레임으로 읽어오기\n",
    "data = pd.read_csv(os.path.join(DATA_DIR, 'review.txt'), sep='\\t')\n",
    "\n",
    "# 데이터프레임의 크기\n",
    "print(data.shape)\n",
    "\n",
    "# 첫 5행을 출력\n",
    "data.head()"
   ]
  },
  {
   "cell_type": "code",
   "execution_count": null,
   "metadata": {
    "colab": {
     "base_uri": "https://localhost:8080/"
    },
    "id": "2emt8qOqI5se",
    "outputId": "f0d1e855-8543-4723-826f-dcbd8f285552"
   },
   "outputs": [],
   "source": [
    "! pip install konlpy"
   ]
  },
  {
   "cell_type": "code",
   "execution_count": null,
   "metadata": {
    "colab": {
     "base_uri": "https://localhost:8080/"
    },
    "id": "TFmqqBKzI5vL",
    "outputId": "db7d252d-f5e7-4a6f-8298-d3d8187de235"
   },
   "outputs": [],
   "source": [
    "# 트위터 형태소 분석기(Okt)를 활용\n",
    "from konlpy.utils import pprint\n",
    "from konlpy.tag import Okt\n",
    "okt = Okt()\n",
    "print(okt)"
   ]
  },
  {
   "cell_type": "code",
   "execution_count": null,
   "metadata": {
    "colab": {
     "base_uri": "https://localhost:8080/"
    },
    "id": "uVUqROz7I5zK",
    "outputId": "5ec214d5-3708-460c-a712-99f2cf10fe7f"
   },
   "outputs": [],
   "source": [
    "# 누락 데이터를 제거\n",
    "review_data = data['document'].dropna().values\n",
    "\n",
    "# 학습 속도를 고려하여, 1000개의 샘플을 선택하여 추출\n",
    "review_data = review_data[:1000]\n",
    "\n",
    "# 배열의 크기\n",
    "print(review_data.shape)\n",
    "\n",
    "# 첫 번째 데이터\n",
    "print(review_data[0])"
   ]
  },
  {
   "cell_type": "code",
   "execution_count": null,
   "metadata": {
    "colab": {
     "base_uri": "https://localhost:8080/"
    },
    "id": "1mHqr2GFI54Q",
    "outputId": "a0ada310-f5f2-426a-e29f-121308bd1062"
   },
   "outputs": [],
   "source": [
    "# 세 글자 이상의 명사를 사용 (두 글자 이하의 단어는 제거)\n",
    "cleaned_review_data = []\n",
    "\n",
    "for review in tqdm(review_data):\n",
    "    tokens = okt.nouns(review)\n",
    "    cleaned_tokens = []\n",
    "    for word in tokens:\n",
    "        if len(word) > 2:\n",
    "            cleaned_tokens.append(word)\n",
    "        else:\n",
    "            pass\n",
    "    cleaned_review = \" \".join(cleaned_tokens)\n",
    "    cleaned_review_data.append(cleaned_review)\n",
    "\n",
    "print(len(cleaned_review_data))\n",
    "print(cleaned_review_data[0])"
   ]
  },
  {
   "cell_type": "code",
   "execution_count": null,
   "metadata": {
    "colab": {
     "base_uri": "https://localhost:8080/"
    },
    "id": "qbV7EEjMI56y",
    "outputId": "4ccf144d-3dac-4d2e-9a3b-87a3606b34b0"
   },
   "outputs": [],
   "source": [
    "# 사이킷런 패키지 활용 \n",
    "from sklearn.feature_extraction.text import TfidfVectorizer\n",
    "\n",
    "# TF-IDF 변환기 객체를 생성\n",
    "tfid = TfidfVectorizer()\n",
    "\n",
    "# TF-IDF 변환기에 데이터를 입력하여 변환\n",
    "review_tfid = tfid.fit_transform(cleaned_review_data)\n",
    "\n",
    "# 배열의 크기\n",
    "print(review_tfid.shape)\n",
    "\n",
    "# 첫 번째 데이터\n",
    "print(review_tfid[0])"
   ]
  },
  {
   "cell_type": "code",
   "execution_count": null,
   "metadata": {
    "colab": {
     "base_uri": "https://localhost:8080/"
    },
    "id": "iO2euWhEI59I",
    "outputId": "47a10af2-f0e9-43ba-c44c-5713f9d8574c"
   },
   "outputs": [],
   "source": [
    "# 단어 사전 확인 (딕셔너리 형태)\n",
    "vocab = tfid.vocabulary_\n",
    "\n",
    "# 단어 사전의 크기\n",
    "print(len(vocab))\n",
    "\n",
    "# 단어 사전 출력 (앞에서 5개의 단어만 출력)\n",
    "print({ k:v for i, (k, v) in enumerate(vocab.items()) if i < 5 })"
   ]
  },
  {
   "cell_type": "code",
   "execution_count": null,
   "metadata": {
    "colab": {
     "base_uri": "https://localhost:8080/"
    },
    "id": "7n2hwgHzI5_4",
    "outputId": "913012c5-ebcf-413a-ac81-887890a78c7b"
   },
   "outputs": [],
   "source": [
    "# 단어들의 사전 인덱스를 이용하여 원래 단어를 검색하는 매핑 딕셔너리\n",
    "index_to_word = { v:k for k, v in vocab.items() } \n",
    "\n",
    "# 앞에서 5개의 단어를 출력\n",
    "print({  k:v for i, (k, v) in enumerate(index_to_word.items()) if i < 5 })"
   ]
  },
  {
   "cell_type": "code",
   "execution_count": null,
   "metadata": {
    "colab": {
     "base_uri": "https://localhost:8080/",
     "height": 36
    },
    "id": "DWsz_XZbI6CX",
    "outputId": "074ac80e-f38d-4271-90cf-9f3be589baea"
   },
   "outputs": [],
   "source": [
    "# 첫 번째 리뷰를 구성하는 단어들의 사전 인덱스를 이용하여 원래 단어를 복원 (순서 복원 X)\n",
    "original_text = \" \".join([index_to_word[word_idx] for word_idx in review_tfid[0].indices])\n",
    "original_text"
   ]
  },
  {
   "cell_type": "code",
   "execution_count": null,
   "metadata": {
    "colab": {
     "base_uri": "https://localhost:8080/"
    },
    "id": "HAMGQDtGK_0j",
    "outputId": "b2f7caff-7df5-465e-b9b5-e72abb111527"
   },
   "outputs": [],
   "source": [
    "# 사이킷런 패키지 활용\n",
    "from sklearn.decomposition import LatentDirichletAllocation\n",
    "\n",
    "# LDA 모델링 객체를 생성 (토픽 갯수를 2로 설정: 긍정/부정)\n",
    "lda = LatentDirichletAllocation(n_components=2)  \n",
    "\n",
    "# TF-IDF 벡터를 입력하여 모델 학습 \n",
    "lda.fit(review_tfid)"
   ]
  },
  {
   "cell_type": "code",
   "execution_count": null,
   "metadata": {
    "colab": {
     "base_uri": "https://localhost:8080/"
    },
    "id": "MNO0epqtK_31",
    "outputId": "a4dfb6b3-de4f-4b49-f9b6-3cd403225425"
   },
   "outputs": [],
   "source": [
    "# 토픽 모델링 결과를 담고 있는 배열의 형태 : (2개의 토픽, 2157개의 단어)\n",
    "print(lda.components_.shape)"
   ]
  },
  {
   "cell_type": "code",
   "execution_count": null,
   "metadata": {
    "colab": {
     "base_uri": "https://localhost:8080/"
    },
    "id": "91K_1v4sK_7n",
    "outputId": "1fdb77dd-dc1b-4c1b-faf7-d122e31e64df"
   },
   "outputs": [],
   "source": [
    "# 2157개의 단어 중에서, 토픽 별로 가장 중요도가 높은 단어를 10개씩 출력\n",
    "\n",
    "for idx, topic in enumerate(lda.components_):\n",
    "    print(f\"토픽 유형 {idx+1}:\", [(index_to_word[i], topic[i].round(3)) for i in topic.argsort()[:-11:-1]])"
   ]
  },
  {
   "cell_type": "code",
   "execution_count": null,
   "metadata": {
    "colab": {
     "base_uri": "https://localhost:8080/"
    },
    "id": "fpcfrguOK_-9",
    "outputId": "defa615d-98ee-4330-ac87-a4a4b1db94e9"
   },
   "outputs": [],
   "source": [
    "# pyLDAvis 설치\n",
    "!pip install pyLDAvis"
   ]
  },
  {
   "cell_type": "code",
   "execution_count": null,
   "metadata": {
    "colab": {
     "base_uri": "https://localhost:8080/",
     "height": 880
    },
    "id": "KbPRbqt9LADi",
    "outputId": "8acbe5d2-5df1-48e2-8a2a-aedf15710810"
   },
   "outputs": [],
   "source": [
    "# LDA 토픽 모델링 결과를 시각화\n",
    "import pyLDAvis.sklearn\n",
    "pyLDAvis.enable_notebook()\n",
    "visualization = pyLDAvis.sklearn.prepare(lda, review_tfid, tfid)\n",
    "pyLDAvis.display(visualization)"
   ]
  },
  {
   "cell_type": "code",
   "execution_count": null,
   "metadata": {
    "colab": {
     "base_uri": "https://localhost:8080/"
    },
    "id": "3KWW3-jkLAIH",
    "outputId": "4d873f4c-ac28-401f-ddd5-890aa8274954"
   },
   "outputs": [],
   "source": [
    "labels = data['label'].iloc[:1000].values\n",
    "print(labels.shape)\n",
    "print(labels[:5])"
   ]
  },
  {
   "cell_type": "code",
   "execution_count": null,
   "metadata": {
    "colab": {
     "base_uri": "https://localhost:8080/"
    },
    "id": "3ezMUkbMLAL5",
    "outputId": "49689441-89d5-4fa9-9713-21a52d33ebad"
   },
   "outputs": [],
   "source": [
    "# 사이킷런 패키지 활용\n",
    "from sklearn.linear_model import LogisticRegression\n",
    "\n",
    "# 로지스틱 분류 모델링 객체를 생성 \n",
    "lr = LogisticRegression()\n",
    "\n",
    "# TF-IDF 벡터를 입력하여 모델 학습 \n",
    "lr.fit(review_tfid, labels)"
   ]
  },
  {
   "cell_type": "code",
   "execution_count": null,
   "metadata": {
    "colab": {
     "base_uri": "https://localhost:8080/"
    },
    "id": "X-gALmWFLAOw",
    "outputId": "76348458-1b61-4ace-ae55-3cb2114a53bf"
   },
   "outputs": [],
   "source": [
    "# 첫 번째 샘플을 이용하여 모델 예측\n",
    "pred = lr.predict(review_tfid[0])\n",
    "print(pred)"
   ]
  },
  {
   "cell_type": "code",
   "execution_count": null,
   "metadata": {
    "colab": {
     "base_uri": "https://localhost:8080/",
     "height": 354
    },
    "id": "i3iu2QYELAR1",
    "outputId": "8df0817a-20b1-4bbf-c6f0-a899dd3de20d"
   },
   "outputs": [],
   "source": [
    "# 판다스 데이터프레임로 읽어오기\n",
    "test = pd.read_csv('naver_review.csv')\n",
    "\n",
    "test.head()"
   ]
  },
  {
   "cell_type": "code",
   "execution_count": null,
   "metadata": {
    "colab": {
     "base_uri": "https://localhost:8080/",
     "height": 354
    },
    "id": "SCVhrShXLAUZ",
    "outputId": "c1c85dbe-dbd0-4a1e-d756-a64e47c614b1"
   },
   "outputs": [],
   "source": [
    "\n",
    "# 판다스 데이터프레임로 읽어오기\n",
    "test = pd.read_csv('naver_review.csv')\n",
    "\n",
    "test.head()\n"
   ]
  },
  {
   "cell_type": "code",
   "execution_count": null,
   "metadata": {
    "colab": {
     "base_uri": "https://localhost:8080/",
     "height": 297
    },
    "id": "ogz1Ho21LAXG",
    "outputId": "0725b306-885b-48dc-9e05-35b0ccc5493b"
   },
   "outputs": [],
   "source": [
    "# 첫 번째 리뷰를 선택\n",
    "test_sample = test['review'][0]\n",
    "test_sample"
   ]
  },
  {
   "cell_type": "code",
   "execution_count": null,
   "metadata": {
    "colab": {
     "base_uri": "https://localhost:8080/",
     "height": 335
    },
    "id": "9DEyh0UsLAZZ",
    "outputId": "82d7294f-89b9-4113-9e05-5c121bd3e019"
   },
   "outputs": [],
   "source": [
    "# 한글을 제외하고 전부 제거\n",
    "test_sample = re.sub(r\"[^가-힣]\", \"\", test_sample)\n",
    "test_sample"
   ]
  },
  {
   "cell_type": "code",
   "execution_count": null,
   "metadata": {
    "id": "RsC9B9V3LAc4"
   },
   "outputs": [],
   "source": [
    "# 세 글자 이상의 명사만을 추출\n",
    "\n",
    "tokens = okt.nouns(test_sample)\n",
    "cleaned_tokens = []\n",
    "for word in tokens:\n",
    "    if len(word) > 2:\n",
    "        cleaned_tokens.append(word)\n",
    "    else:\n",
    "        pass\n",
    "cleaned_review = \" \".join(cleaned_tokens)\n",
    "\n",
    "cleaned_review"
   ]
  },
  {
   "cell_type": "code",
   "execution_count": null,
   "metadata": {
    "id": "QZchB5lxLAgG"
   },
   "outputs": [],
   "source": [
    "# TF-IDF 변환기에 데이터를 입력하여 변환\n",
    "test_review_tfid = tfid.transform([cleaned_review])\n",
    "\n",
    "# 배열을 출력\n",
    "print(test_review_tfid)"
   ]
  },
  {
   "cell_type": "code",
   "execution_count": null,
   "metadata": {
    "id": "eaAr_dOJI6EX"
   },
   "outputs": [],
   "source": [
    "# 로지스틱 회귀 모델을 활용하여 분류 예측\n",
    "test_pred = lr.predict(test_review_tfid)[0]\n",
    "print(\"분석 결과 {}적인 리뷰로 예측됩니다. \".format(\"긍정\" if test_pred > 0 else \"부정\"))"
   ]
  },
  {
   "cell_type": "code",
   "execution_count": null,
   "metadata": {
    "id": "vS_oPP19iD2z"
   },
   "outputs": [],
   "source": [
    "result = test['review'][:]\n",
    "test = result.to_frame()\n",
    "test"
   ]
  },
  {
   "cell_type": "code",
   "execution_count": null,
   "metadata": {
    "id": "fVDgX7ZAiENI"
   },
   "outputs": [],
   "source": [
    "def f(review):\n",
    "\n",
    "\n",
    "  result1 = re.sub(r\"[^가-힣]\", \"\", str(result))\n",
    "  return result1\n",
    "\n",
    "result['fin_review'] = test['review'].apply(f)\n",
    "result.to_frame()"
   ]
  },
  {
   "cell_type": "code",
   "execution_count": null,
   "metadata": {
    "id": "wqUSypY3iETn"
   },
   "outputs": [],
   "source": [
    "tokens = okt.nouns(result)\n",
    "cleaned_result = []\n",
    "for word in tokens:\n",
    "    if len(word) > 2:\n",
    "        cleaned_result.append(word)\n",
    "    else:\n",
    "        pass\n",
    "cleaned_review_fin = \" \".join(cleaned_result)\n",
    "\n",
    "cleaned_review_fin"
   ]
  },
  {
   "cell_type": "code",
   "execution_count": null,
   "metadata": {
    "id": "QZV97RKYjZ2P"
   },
   "outputs": [],
   "source": [
    "result_review_tfid = tfid.transform([cleaned_review_fin])\n",
    "\n",
    "for i in range(10):\n",
    "  result_pred = lr.predict(result_review_tfid)[i]\n",
    "  print(\"분석 결과 {}적인 리뷰로 예측됩니다. \".format(\"긍정\" if test_pred > 0 else \"부정\"))"
   ]
  }
 ],
 "metadata": {
  "colab": {
   "provenance": []
  },
  "kernelspec": {
   "display_name": "Python 3 (ipykernel)",
   "language": "python",
   "name": "python3"
  },
  "language_info": {
   "codemirror_mode": {
    "name": "ipython",
    "version": 3
   },
   "file_extension": ".py",
   "mimetype": "text/x-python",
   "name": "python",
   "nbconvert_exporter": "python",
   "pygments_lexer": "ipython3",
   "version": "3.9.13"
  }
 },
 "nbformat": 4,
 "nbformat_minor": 4
}
